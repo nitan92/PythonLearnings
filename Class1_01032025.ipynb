{
  "nbformat": 4,
  "nbformat_minor": 0,
  "metadata": {
    "colab": {
      "provenance": [],
      "authorship_tag": "ABX9TyNjgl60eU/r0csQdHy13yRX",
      "include_colab_link": true
    },
    "kernelspec": {
      "name": "python3",
      "display_name": "Python 3"
    },
    "language_info": {
      "name": "python"
    }
  },
  "cells": [
    {
      "cell_type": "markdown",
      "metadata": {
        "id": "view-in-github",
        "colab_type": "text"
      },
      "source": [
        "<a href=\"https://colab.research.google.com/github/nitan92/PythonLearnings/blob/main/Class1_01032025.ipynb\" target=\"_parent\"><img src=\"https://colab.research.google.com/assets/colab-badge.svg\" alt=\"Open In Colab\"/></a>"
      ]
    },
    {
      "cell_type": "code",
      "source": [
        "# hello\n",
        "a,b = 10, 20\n",
        "c = a+b\n",
        "print(c)\n"
      ],
      "metadata": {
        "colab": {
          "base_uri": "https://localhost:8080/"
        },
        "id": "s60qkTOaKXbF",
        "outputId": "7e72f733-c8ae-4b84-e9a4-e65c1cc6a7d7"
      },
      "execution_count": 2,
      "outputs": [
        {
          "output_type": "stream",
          "name": "stdout",
          "text": [
            "30\n"
          ]
        }
      ]
    },
    {
      "cell_type": "markdown",
      "source": [
        "# hello\n",
        "a,b = 10, 20\n",
        "c = a+b\n",
        "print(c)\n"
      ],
      "metadata": {
        "id": "P5jiRBAf6v48"
      }
    },
    {
      "cell_type": "markdown",
      "source": [
        "__Hi Nitan__\n",
        "\n",
        "---\n",
        "## Hello\n",
        "###Hello\n",
        "\n",
        "\n",
        "---\n",
        "\n"
      ],
      "metadata": {
        "id": "S-TCMOjOHw_2"
      }
    }
  ]
}